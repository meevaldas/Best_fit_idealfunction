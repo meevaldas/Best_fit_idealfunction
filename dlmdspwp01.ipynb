{
 "cells": [
  {
   "cell_type": "code",
   "execution_count": 8,
   "metadata": {
    "collapsed": true
   },
   "outputs": [],
   "source": [
    "import math\n",
    "import matplotlib\n",
    "from pandas import read_csv"
   ]
  },
  {
   "cell_type": "code",
   "execution_count": 9,
   "outputs": [
    {
     "data": {
      "text/plain": "(      x         y1         y2        y3        y4\n 0 -20.0 -20.018053 -40.458344 -8795.175  0.129890\n 1 -19.9 -19.710516 -40.390892 -8667.846 -0.498129\n 2 -19.8 -19.560709 -39.671677 -8541.095  0.313726\n 3 -19.7 -19.805567 -40.138477 -8416.585 -0.295276\n 4 -19.6 -19.349806 -39.185284 -8292.665 -0.455044,\n       x          y\n 0  -3.5  -6.947535\n 1 -12.5 -11.685250\n 2 -16.6 -16.706474\n 3  10.1   1.008710\n 4   5.4   5.342015,\n       x        y1        y2        y3        y4        y5        y6        y7  \\\n 0 -20.0 -0.912945  0.408082  9.087055  5.408082 -9.087055  0.912945 -0.839071   \n 1 -19.9 -0.867644  0.497186  9.132356  5.497186 -9.132356  0.867644 -0.865213   \n 2 -19.8 -0.813674  0.581322  9.186326  5.581322 -9.186326  0.813674 -0.889191   \n 3 -19.7 -0.751573  0.659649  9.248426  5.659649 -9.248426  0.751573 -0.910947   \n 4 -19.6 -0.681964  0.731386  9.318036  5.731386 -9.318036  0.681964 -0.930426   \n \n          y8        y9  ...        y41        y42       y43       y44  \\\n 0 -0.850919  0.816164  ... -40.456474  40.204040  2.995732 -0.008333   \n 1  0.168518  0.994372  ... -40.233820  40.048590  2.990720 -0.008340   \n 2  0.612391  1.162644  ... -40.006836  39.890660  2.985682 -0.008347   \n 3 -0.994669  1.319299  ... -39.775787  39.729824  2.980619 -0.008354   \n 4  0.774356  1.462772  ... -39.540980  39.565693  2.975530 -0.008361   \n \n          y45       y46       y47       y48       y49       y50  \n 0  12.995732  5.298317 -5.298317 -0.186278  0.912945  0.396850  \n 1  12.990720  5.293305 -5.293305 -0.215690  0.867644  0.476954  \n 2  12.985682  5.288267 -5.288267 -0.236503  0.813674  0.549129  \n 3  12.980619  5.283204 -5.283204 -0.247887  0.751573  0.612840  \n 4  12.975530  5.278115 -5.278115 -0.249389  0.681964  0.667902  \n \n [5 rows x 51 columns])"
     },
     "execution_count": 9,
     "metadata": {},
     "output_type": "execute_result"
    }
   ],
   "source": [
    "# Preparing Datasets\n",
    "training_df = read_csv('csvfiles/train.csv')\n",
    "test_df = read_csv('csvfiles/test.csv')\n",
    "ideal_functions_df = read_csv('csvfiles/ideal.csv')\n",
    "\n",
    "training_df.head(), test_df.head(), ideal_functions_df.head()"
   ],
   "metadata": {
    "collapsed": false
   }
  }
 ],
 "metadata": {
  "kernelspec": {
   "display_name": "Python 3",
   "language": "python",
   "name": "python3"
  },
  "language_info": {
   "codemirror_mode": {
    "name": "ipython",
    "version": 2
   },
   "file_extension": ".py",
   "mimetype": "text/x-python",
   "name": "python",
   "nbconvert_exporter": "python",
   "pygments_lexer": "ipython2",
   "version": "2.7.6"
  }
 },
 "nbformat": 4,
 "nbformat_minor": 0
}
