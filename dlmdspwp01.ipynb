{
 "cells": [
  {
   "cell_type": "code",
   "execution_count": 9,
   "metadata": {
    "collapsed": true
   },
   "outputs": [],
   "source": [
    "import math\n",
    "import matplotlib\n",
    "import pandas as pd\n",
    "from pandas import read_csv, merge, DataFrame"
   ]
  },
  {
   "cell_type": "code",
   "execution_count": 10,
   "outputs": [],
   "source": [
    "# Preparing Datasets\n",
    "training_df = read_csv('csvfiles/train.csv')\n",
    "test_df = read_csv('csvfiles/test.csv')\n",
    "ideal_functions_df = read_csv('csvfiles/ideal.csv')\n",
    "\n",
    "#training_df.head(), test_df.head(), ideal_functions_df.head()"
   ],
   "metadata": {
    "collapsed": false
   }
  },
  {
   "cell_type": "code",
   "execution_count": 11,
   "outputs": [
    {
     "data": {
      "text/plain": "        x  training_y1        y1        y2         y3        y4         y5  \\\n0   -20.0   -20.018053 -0.912945  0.408082   9.087055  5.408082  -9.087055   \n1   -19.9   -19.710516 -0.867644  0.497186   9.132356  5.497186  -9.132356   \n2   -19.8   -19.560709 -0.813674  0.581322   9.186326  5.581322  -9.186326   \n3   -19.7   -19.805567 -0.751573  0.659649   9.248426  5.659649  -9.248426   \n4   -19.6   -19.349806 -0.681964  0.731386   9.318036  5.731386  -9.318036   \n..    ...          ...       ...       ...        ...       ...        ...   \n395  19.5    19.474083  0.605540  0.795815  10.605540  5.795815 -10.605540   \n396  19.6    19.287653  0.681964  0.731386  10.681964  5.731386 -10.681964   \n397  19.7    19.332115  0.751573  0.659649  10.751574  5.659649 -10.751574   \n398  19.8    19.467033  0.813674  0.581322  10.813674  5.581322 -10.813674   \n399  19.9    20.027687  0.867644  0.497186  10.867644  5.497186 -10.867644   \n\n           y6        y7        y8  ...        y41        y42       y43  \\\n0    0.912945 -0.839071 -0.850919  ... -40.456474  40.204040  2.995732   \n1    0.867644 -0.865213  0.168518  ... -40.233820  40.048590  2.990720   \n2    0.813674 -0.889191  0.612391  ... -40.006836  39.890660  2.985682   \n3    0.751573 -0.910947 -0.994669  ... -39.775787  39.729824  2.980619   \n4    0.681964 -0.930426  0.774356  ... -39.540980  39.565693  2.975530   \n..        ...       ...       ...  ...        ...        ...       ...   \n395 -0.605540 -0.947580 -0.117020  ...  39.302770 -38.602093  2.970414   \n396 -0.681964 -0.930426  0.774356  ...  39.540980 -38.834310  2.975530   \n397 -0.751573 -0.910947 -0.994669  ...  39.775787 -39.070175  2.980619   \n398 -0.813674 -0.889191  0.612391  ...  40.006836 -39.309338  2.985682   \n399 -0.867644 -0.865213  0.168518  ...  40.233820 -39.551407  2.990720   \n\n          y44        y45       y46       y47       y48       y49       y50  \n0   -0.008333  12.995732  5.298317 -5.298317 -0.186278  0.912945  0.396850  \n1   -0.008340  12.990720  5.293305 -5.293305 -0.215690  0.867644  0.476954  \n2   -0.008347  12.985682  5.288267 -5.288267 -0.236503  0.813674  0.549129  \n3   -0.008354  12.980619  5.283204 -5.283204 -0.247887  0.751573  0.612840  \n4   -0.008361  12.975530  5.278115 -5.278115 -0.249389  0.681964  0.667902  \n..        ...        ...       ...       ...       ...       ...       ...  \n395 -0.012422  12.970414  5.273000 -5.273000  0.240949  0.605540  0.714434  \n396 -0.012438  12.975530  5.278115 -5.278115  0.249389  0.681964  0.667902  \n397 -0.012453  12.980619  5.283204 -5.283204  0.247887  0.751573  0.612840  \n398 -0.012469  12.985682  5.288267 -5.288267  0.236503  0.813674  0.549129  \n399 -0.012484  12.990720  5.293305 -5.293305  0.215690  0.867644  0.476954  \n\n[400 rows x 52 columns]",
      "text/html": "<div>\n<style scoped>\n    .dataframe tbody tr th:only-of-type {\n        vertical-align: middle;\n    }\n\n    .dataframe tbody tr th {\n        vertical-align: top;\n    }\n\n    .dataframe thead th {\n        text-align: right;\n    }\n</style>\n<table border=\"1\" class=\"dataframe\">\n  <thead>\n    <tr style=\"text-align: right;\">\n      <th></th>\n      <th>x</th>\n      <th>training_y1</th>\n      <th>y1</th>\n      <th>y2</th>\n      <th>y3</th>\n      <th>y4</th>\n      <th>y5</th>\n      <th>y6</th>\n      <th>y7</th>\n      <th>y8</th>\n      <th>...</th>\n      <th>y41</th>\n      <th>y42</th>\n      <th>y43</th>\n      <th>y44</th>\n      <th>y45</th>\n      <th>y46</th>\n      <th>y47</th>\n      <th>y48</th>\n      <th>y49</th>\n      <th>y50</th>\n    </tr>\n  </thead>\n  <tbody>\n    <tr>\n      <th>0</th>\n      <td>-20.0</td>\n      <td>-20.018053</td>\n      <td>-0.912945</td>\n      <td>0.408082</td>\n      <td>9.087055</td>\n      <td>5.408082</td>\n      <td>-9.087055</td>\n      <td>0.912945</td>\n      <td>-0.839071</td>\n      <td>-0.850919</td>\n      <td>...</td>\n      <td>-40.456474</td>\n      <td>40.204040</td>\n      <td>2.995732</td>\n      <td>-0.008333</td>\n      <td>12.995732</td>\n      <td>5.298317</td>\n      <td>-5.298317</td>\n      <td>-0.186278</td>\n      <td>0.912945</td>\n      <td>0.396850</td>\n    </tr>\n    <tr>\n      <th>1</th>\n      <td>-19.9</td>\n      <td>-19.710516</td>\n      <td>-0.867644</td>\n      <td>0.497186</td>\n      <td>9.132356</td>\n      <td>5.497186</td>\n      <td>-9.132356</td>\n      <td>0.867644</td>\n      <td>-0.865213</td>\n      <td>0.168518</td>\n      <td>...</td>\n      <td>-40.233820</td>\n      <td>40.048590</td>\n      <td>2.990720</td>\n      <td>-0.008340</td>\n      <td>12.990720</td>\n      <td>5.293305</td>\n      <td>-5.293305</td>\n      <td>-0.215690</td>\n      <td>0.867644</td>\n      <td>0.476954</td>\n    </tr>\n    <tr>\n      <th>2</th>\n      <td>-19.8</td>\n      <td>-19.560709</td>\n      <td>-0.813674</td>\n      <td>0.581322</td>\n      <td>9.186326</td>\n      <td>5.581322</td>\n      <td>-9.186326</td>\n      <td>0.813674</td>\n      <td>-0.889191</td>\n      <td>0.612391</td>\n      <td>...</td>\n      <td>-40.006836</td>\n      <td>39.890660</td>\n      <td>2.985682</td>\n      <td>-0.008347</td>\n      <td>12.985682</td>\n      <td>5.288267</td>\n      <td>-5.288267</td>\n      <td>-0.236503</td>\n      <td>0.813674</td>\n      <td>0.549129</td>\n    </tr>\n    <tr>\n      <th>3</th>\n      <td>-19.7</td>\n      <td>-19.805567</td>\n      <td>-0.751573</td>\n      <td>0.659649</td>\n      <td>9.248426</td>\n      <td>5.659649</td>\n      <td>-9.248426</td>\n      <td>0.751573</td>\n      <td>-0.910947</td>\n      <td>-0.994669</td>\n      <td>...</td>\n      <td>-39.775787</td>\n      <td>39.729824</td>\n      <td>2.980619</td>\n      <td>-0.008354</td>\n      <td>12.980619</td>\n      <td>5.283204</td>\n      <td>-5.283204</td>\n      <td>-0.247887</td>\n      <td>0.751573</td>\n      <td>0.612840</td>\n    </tr>\n    <tr>\n      <th>4</th>\n      <td>-19.6</td>\n      <td>-19.349806</td>\n      <td>-0.681964</td>\n      <td>0.731386</td>\n      <td>9.318036</td>\n      <td>5.731386</td>\n      <td>-9.318036</td>\n      <td>0.681964</td>\n      <td>-0.930426</td>\n      <td>0.774356</td>\n      <td>...</td>\n      <td>-39.540980</td>\n      <td>39.565693</td>\n      <td>2.975530</td>\n      <td>-0.008361</td>\n      <td>12.975530</td>\n      <td>5.278115</td>\n      <td>-5.278115</td>\n      <td>-0.249389</td>\n      <td>0.681964</td>\n      <td>0.667902</td>\n    </tr>\n    <tr>\n      <th>...</th>\n      <td>...</td>\n      <td>...</td>\n      <td>...</td>\n      <td>...</td>\n      <td>...</td>\n      <td>...</td>\n      <td>...</td>\n      <td>...</td>\n      <td>...</td>\n      <td>...</td>\n      <td>...</td>\n      <td>...</td>\n      <td>...</td>\n      <td>...</td>\n      <td>...</td>\n      <td>...</td>\n      <td>...</td>\n      <td>...</td>\n      <td>...</td>\n      <td>...</td>\n      <td>...</td>\n    </tr>\n    <tr>\n      <th>395</th>\n      <td>19.5</td>\n      <td>19.474083</td>\n      <td>0.605540</td>\n      <td>0.795815</td>\n      <td>10.605540</td>\n      <td>5.795815</td>\n      <td>-10.605540</td>\n      <td>-0.605540</td>\n      <td>-0.947580</td>\n      <td>-0.117020</td>\n      <td>...</td>\n      <td>39.302770</td>\n      <td>-38.602093</td>\n      <td>2.970414</td>\n      <td>-0.012422</td>\n      <td>12.970414</td>\n      <td>5.273000</td>\n      <td>-5.273000</td>\n      <td>0.240949</td>\n      <td>0.605540</td>\n      <td>0.714434</td>\n    </tr>\n    <tr>\n      <th>396</th>\n      <td>19.6</td>\n      <td>19.287653</td>\n      <td>0.681964</td>\n      <td>0.731386</td>\n      <td>10.681964</td>\n      <td>5.731386</td>\n      <td>-10.681964</td>\n      <td>-0.681964</td>\n      <td>-0.930426</td>\n      <td>0.774356</td>\n      <td>...</td>\n      <td>39.540980</td>\n      <td>-38.834310</td>\n      <td>2.975530</td>\n      <td>-0.012438</td>\n      <td>12.975530</td>\n      <td>5.278115</td>\n      <td>-5.278115</td>\n      <td>0.249389</td>\n      <td>0.681964</td>\n      <td>0.667902</td>\n    </tr>\n    <tr>\n      <th>397</th>\n      <td>19.7</td>\n      <td>19.332115</td>\n      <td>0.751573</td>\n      <td>0.659649</td>\n      <td>10.751574</td>\n      <td>5.659649</td>\n      <td>-10.751574</td>\n      <td>-0.751573</td>\n      <td>-0.910947</td>\n      <td>-0.994669</td>\n      <td>...</td>\n      <td>39.775787</td>\n      <td>-39.070175</td>\n      <td>2.980619</td>\n      <td>-0.012453</td>\n      <td>12.980619</td>\n      <td>5.283204</td>\n      <td>-5.283204</td>\n      <td>0.247887</td>\n      <td>0.751573</td>\n      <td>0.612840</td>\n    </tr>\n    <tr>\n      <th>398</th>\n      <td>19.8</td>\n      <td>19.467033</td>\n      <td>0.813674</td>\n      <td>0.581322</td>\n      <td>10.813674</td>\n      <td>5.581322</td>\n      <td>-10.813674</td>\n      <td>-0.813674</td>\n      <td>-0.889191</td>\n      <td>0.612391</td>\n      <td>...</td>\n      <td>40.006836</td>\n      <td>-39.309338</td>\n      <td>2.985682</td>\n      <td>-0.012469</td>\n      <td>12.985682</td>\n      <td>5.288267</td>\n      <td>-5.288267</td>\n      <td>0.236503</td>\n      <td>0.813674</td>\n      <td>0.549129</td>\n    </tr>\n    <tr>\n      <th>399</th>\n      <td>19.9</td>\n      <td>20.027687</td>\n      <td>0.867644</td>\n      <td>0.497186</td>\n      <td>10.867644</td>\n      <td>5.497186</td>\n      <td>-10.867644</td>\n      <td>-0.867644</td>\n      <td>-0.865213</td>\n      <td>0.168518</td>\n      <td>...</td>\n      <td>40.233820</td>\n      <td>-39.551407</td>\n      <td>2.990720</td>\n      <td>-0.012484</td>\n      <td>12.990720</td>\n      <td>5.293305</td>\n      <td>-5.293305</td>\n      <td>0.215690</td>\n      <td>0.867644</td>\n      <td>0.476954</td>\n    </tr>\n  </tbody>\n</table>\n<p>400 rows × 52 columns</p>\n</div>"
     },
     "execution_count": 11,
     "metadata": {},
     "output_type": "execute_result"
    }
   ],
   "source": [
    "# find four best fit ideal functions\n",
    "# step 1: calculate deviation between ideal functions and training datasets\n",
    "#         for each column entry in training data find least square value with ideal functions dataframe (difference            between the y values of ideal functions and y values of training dataset of corresponding x values and find #        square of those differences)\n",
    "# get the titles of training dataset columns except x\n",
    "# td[y1] - id[y1]\n",
    "\n",
    "training_1 = training_df[['x', 'y1']].rename(columns={'y1': 'training_y1'})\n",
    "#ideal_function_1 = ideal_functions_df[['x', 'y1']]\n",
    "merged_df = merge(training_1, ideal_functions_df, on='x')\n",
    "merged_df"
   ],
   "metadata": {
    "collapsed": false
   }
  },
  {
   "cell_type": "code",
   "execution_count": 12,
   "outputs": [
    {
     "data": {
      "text/plain": "     training_y1_diff     y1_diff     y10_diff  y11_diff     y12_diff  \\\n0                 0.0  365.005140  1465.125514  0.000326  1442.628298   \n1                 0.0  355.053821  1367.271388  0.035904  1443.200895   \n2                 0.0  351.451331  1272.452274  0.057260  1431.811943   \n3                 0.0  363.054671  1197.960293  0.011144  1390.874733   \n4                 0.0  348.488340  1070.355828  0.062597  1402.517031   \n..                ...         ...          ...       ...          ...   \n395               0.0  356.021920    58.768415  0.000672  1683.125866   \n396               0.0  346.171678    35.060207  0.097561  1723.274953   \n397               0.0  345.236525    20.485753  0.135339  1744.556217   \n398               0.0  347.947812    11.264703  0.110867  1758.373721   \n399               0.0  367.107244     7.626269  0.016304  1736.581671   \n\n       y13_diff     y14_diff     y15_diff       y16_diff       y17_diff  ...  \\\n0    624.097676  1601.444566  1090.191824  176415.164846  144386.280046  ...   \n1    629.482207  1568.992978  1066.709305  172823.547423  141601.301659  ...   \n2    626.966094  1549.265413  1053.697629  169415.143649  138740.822224  ...   \n3    604.886135  1560.689824  1066.386056  166378.793578  135633.423590  ...   \n4    617.532142  1517.087387  1033.610026  162820.163538  133086.477646  ...   \n..          ...          ...          ...            ...            ...  ...   \n395  211.002265  1518.979146   687.702529  130159.262287  159779.342530  ...   \n396  222.378093  1512.249556   680.565639  133131.829605  162770.008711  ...   \n397  227.041158  1523.506001   685.503146  135982.377750  165992.779791  ...   \n398  229.006690  1541.899881   695.220429  138810.615739  169338.038208  ...   \n399  218.221231  1594.220189   727.795596  141362.699689  173087.357004  ...   \n\n       y46_diff    y47_diff    y48_diff    y49_diff     y5_diff    y50_diff  \\\n0    640.918610  216.670616  393.299289  438.106690  119.486717  416.768248   \n1    625.191065  207.855973  380.048234  423.460673  111.897469  407.533943   \n2    617.471608  203.702601  373.424932  415.115472  107.627823  404.405588   \n3    629.446410  210.899039  382.502828  422.596023  111.453226  416.911340   \n4    606.534493  198.012488  364.825916  401.271793  100.636409  400.708630   \n..          ...         ...         ...         ...         ...         ...   \n395  201.670758  612.418117  369.913450  356.021920  904.783720  351.924427   \n396  196.267155  603.476957  362.455483  346.171678  898.177943  346.695131   \n397  197.371912  605.913910  364.207740  345.236525  905.028344  350.411260   \n398  201.037405  612.824878  369.813279  347.947812  916.921216  357.887088   \n399  217.102013  641.152636  392.515218  367.107244  954.521478  382.231163   \n\n        y6_diff     y7_diff     y8_diff     y9_diff  \n0    438.106690  367.833331  367.379012  434.064604  \n1    423.460673  355.145460  395.175980  428.692371  \n2    415.115472  348.625579  406.953968  429.457347  \n3    422.596023  357.006660  353.849901  446.259959  \n4    401.271793  339.273549  404.981884  433.163415  \n..          ...         ...         ...         ...  \n395  403.191254  417.044312  383.811324  319.782125  \n396  398.785587  408.770731  342.742177  317.726372  \n397  403.354541  409.781565  413.178129  324.461544  \n398  411.307065  414.375862  355.497521  335.050668  \n399  436.614862  436.513254  394.386606  362.267095  \n\n[400 rows x 51 columns]",
      "text/html": "<div>\n<style scoped>\n    .dataframe tbody tr th:only-of-type {\n        vertical-align: middle;\n    }\n\n    .dataframe tbody tr th {\n        vertical-align: top;\n    }\n\n    .dataframe thead th {\n        text-align: right;\n    }\n</style>\n<table border=\"1\" class=\"dataframe\">\n  <thead>\n    <tr style=\"text-align: right;\">\n      <th></th>\n      <th>training_y1_diff</th>\n      <th>y1_diff</th>\n      <th>y10_diff</th>\n      <th>y11_diff</th>\n      <th>y12_diff</th>\n      <th>y13_diff</th>\n      <th>y14_diff</th>\n      <th>y15_diff</th>\n      <th>y16_diff</th>\n      <th>y17_diff</th>\n      <th>...</th>\n      <th>y46_diff</th>\n      <th>y47_diff</th>\n      <th>y48_diff</th>\n      <th>y49_diff</th>\n      <th>y5_diff</th>\n      <th>y50_diff</th>\n      <th>y6_diff</th>\n      <th>y7_diff</th>\n      <th>y8_diff</th>\n      <th>y9_diff</th>\n    </tr>\n  </thead>\n  <tbody>\n    <tr>\n      <th>0</th>\n      <td>0.0</td>\n      <td>365.005140</td>\n      <td>1465.125514</td>\n      <td>0.000326</td>\n      <td>1442.628298</td>\n      <td>624.097676</td>\n      <td>1601.444566</td>\n      <td>1090.191824</td>\n      <td>176415.164846</td>\n      <td>144386.280046</td>\n      <td>...</td>\n      <td>640.918610</td>\n      <td>216.670616</td>\n      <td>393.299289</td>\n      <td>438.106690</td>\n      <td>119.486717</td>\n      <td>416.768248</td>\n      <td>438.106690</td>\n      <td>367.833331</td>\n      <td>367.379012</td>\n      <td>434.064604</td>\n    </tr>\n    <tr>\n      <th>1</th>\n      <td>0.0</td>\n      <td>355.053821</td>\n      <td>1367.271388</td>\n      <td>0.035904</td>\n      <td>1443.200895</td>\n      <td>629.482207</td>\n      <td>1568.992978</td>\n      <td>1066.709305</td>\n      <td>172823.547423</td>\n      <td>141601.301659</td>\n      <td>...</td>\n      <td>625.191065</td>\n      <td>207.855973</td>\n      <td>380.048234</td>\n      <td>423.460673</td>\n      <td>111.897469</td>\n      <td>407.533943</td>\n      <td>423.460673</td>\n      <td>355.145460</td>\n      <td>395.175980</td>\n      <td>428.692371</td>\n    </tr>\n    <tr>\n      <th>2</th>\n      <td>0.0</td>\n      <td>351.451331</td>\n      <td>1272.452274</td>\n      <td>0.057260</td>\n      <td>1431.811943</td>\n      <td>626.966094</td>\n      <td>1549.265413</td>\n      <td>1053.697629</td>\n      <td>169415.143649</td>\n      <td>138740.822224</td>\n      <td>...</td>\n      <td>617.471608</td>\n      <td>203.702601</td>\n      <td>373.424932</td>\n      <td>415.115472</td>\n      <td>107.627823</td>\n      <td>404.405588</td>\n      <td>415.115472</td>\n      <td>348.625579</td>\n      <td>406.953968</td>\n      <td>429.457347</td>\n    </tr>\n    <tr>\n      <th>3</th>\n      <td>0.0</td>\n      <td>363.054671</td>\n      <td>1197.960293</td>\n      <td>0.011144</td>\n      <td>1390.874733</td>\n      <td>604.886135</td>\n      <td>1560.689824</td>\n      <td>1066.386056</td>\n      <td>166378.793578</td>\n      <td>135633.423590</td>\n      <td>...</td>\n      <td>629.446410</td>\n      <td>210.899039</td>\n      <td>382.502828</td>\n      <td>422.596023</td>\n      <td>111.453226</td>\n      <td>416.911340</td>\n      <td>422.596023</td>\n      <td>357.006660</td>\n      <td>353.849901</td>\n      <td>446.259959</td>\n    </tr>\n    <tr>\n      <th>4</th>\n      <td>0.0</td>\n      <td>348.488340</td>\n      <td>1070.355828</td>\n      <td>0.062597</td>\n      <td>1402.517031</td>\n      <td>617.532142</td>\n      <td>1517.087387</td>\n      <td>1033.610026</td>\n      <td>162820.163538</td>\n      <td>133086.477646</td>\n      <td>...</td>\n      <td>606.534493</td>\n      <td>198.012488</td>\n      <td>364.825916</td>\n      <td>401.271793</td>\n      <td>100.636409</td>\n      <td>400.708630</td>\n      <td>401.271793</td>\n      <td>339.273549</td>\n      <td>404.981884</td>\n      <td>433.163415</td>\n    </tr>\n    <tr>\n      <th>...</th>\n      <td>...</td>\n      <td>...</td>\n      <td>...</td>\n      <td>...</td>\n      <td>...</td>\n      <td>...</td>\n      <td>...</td>\n      <td>...</td>\n      <td>...</td>\n      <td>...</td>\n      <td>...</td>\n      <td>...</td>\n      <td>...</td>\n      <td>...</td>\n      <td>...</td>\n      <td>...</td>\n      <td>...</td>\n      <td>...</td>\n      <td>...</td>\n      <td>...</td>\n      <td>...</td>\n    </tr>\n    <tr>\n      <th>395</th>\n      <td>0.0</td>\n      <td>356.021920</td>\n      <td>58.768415</td>\n      <td>0.000672</td>\n      <td>1683.125866</td>\n      <td>211.002265</td>\n      <td>1518.979146</td>\n      <td>687.702529</td>\n      <td>130159.262287</td>\n      <td>159779.342530</td>\n      <td>...</td>\n      <td>201.670758</td>\n      <td>612.418117</td>\n      <td>369.913450</td>\n      <td>356.021920</td>\n      <td>904.783720</td>\n      <td>351.924427</td>\n      <td>403.191254</td>\n      <td>417.044312</td>\n      <td>383.811324</td>\n      <td>319.782125</td>\n    </tr>\n    <tr>\n      <th>396</th>\n      <td>0.0</td>\n      <td>346.171678</td>\n      <td>35.060207</td>\n      <td>0.097561</td>\n      <td>1723.274953</td>\n      <td>222.378093</td>\n      <td>1512.249556</td>\n      <td>680.565639</td>\n      <td>133131.829605</td>\n      <td>162770.008711</td>\n      <td>...</td>\n      <td>196.267155</td>\n      <td>603.476957</td>\n      <td>362.455483</td>\n      <td>346.171678</td>\n      <td>898.177943</td>\n      <td>346.695131</td>\n      <td>398.785587</td>\n      <td>408.770731</td>\n      <td>342.742177</td>\n      <td>317.726372</td>\n    </tr>\n    <tr>\n      <th>397</th>\n      <td>0.0</td>\n      <td>345.236525</td>\n      <td>20.485753</td>\n      <td>0.135339</td>\n      <td>1744.556217</td>\n      <td>227.041158</td>\n      <td>1523.506001</td>\n      <td>685.503146</td>\n      <td>135982.377750</td>\n      <td>165992.779791</td>\n      <td>...</td>\n      <td>197.371912</td>\n      <td>605.913910</td>\n      <td>364.207740</td>\n      <td>345.236525</td>\n      <td>905.028344</td>\n      <td>350.411260</td>\n      <td>403.354541</td>\n      <td>409.781565</td>\n      <td>413.178129</td>\n      <td>324.461544</td>\n    </tr>\n    <tr>\n      <th>398</th>\n      <td>0.0</td>\n      <td>347.947812</td>\n      <td>11.264703</td>\n      <td>0.110867</td>\n      <td>1758.373721</td>\n      <td>229.006690</td>\n      <td>1541.899881</td>\n      <td>695.220429</td>\n      <td>138810.615739</td>\n      <td>169338.038208</td>\n      <td>...</td>\n      <td>201.037405</td>\n      <td>612.824878</td>\n      <td>369.813279</td>\n      <td>347.947812</td>\n      <td>916.921216</td>\n      <td>357.887088</td>\n      <td>411.307065</td>\n      <td>414.375862</td>\n      <td>355.497521</td>\n      <td>335.050668</td>\n    </tr>\n    <tr>\n      <th>399</th>\n      <td>0.0</td>\n      <td>367.107244</td>\n      <td>7.626269</td>\n      <td>0.016304</td>\n      <td>1736.581671</td>\n      <td>218.221231</td>\n      <td>1594.220189</td>\n      <td>727.795596</td>\n      <td>141362.699689</td>\n      <td>173087.357004</td>\n      <td>...</td>\n      <td>217.102013</td>\n      <td>641.152636</td>\n      <td>392.515218</td>\n      <td>367.107244</td>\n      <td>954.521478</td>\n      <td>382.231163</td>\n      <td>436.614862</td>\n      <td>436.513254</td>\n      <td>394.386606</td>\n      <td>362.267095</td>\n    </tr>\n  </tbody>\n</table>\n<p>400 rows × 51 columns</p>\n</div>"
     },
     "execution_count": 12,
     "metadata": {},
     "output_type": "execute_result"
    }
   ],
   "source": [
    "\n",
    "columns_for_calc = merged_df[merged_df.columns.difference(['x'])]\n",
    "diff_columns_for_calc = list(map(lambda column: column + '_diff', columns_for_calc))\n",
    "\n",
    "# Each list element as column\n",
    "# Change column names\n",
    "columns_for_calc.columns = diff_columns_for_calc\n",
    "columns_for_calc = columns_for_calc.apply(lambda x: (x['training_y1_diff'] - x[diff_columns_for_calc]) ** 2, axis=1)\n",
    "columns_for_calc\n",
    "##merged_df['y1_diff'] = merged_df.apply(lambda x: (x['training_y1'] - x['y1']) ** 2, axis=1)\n",
    "#merged_df[columns_for_calc] = merged_df.apply(lambda x: (x['training_y1'] - x['y1']) ** 2, axis=1)"
   ],
   "metadata": {
    "collapsed": false
   }
  },
  {
   "cell_type": "code",
   "execution_count": 23,
   "outputs": [
    {
     "ename": "KeyError",
     "evalue": "'sum'",
     "output_type": "error",
     "traceback": [
      "\u001B[0;31m---------------------------------------------------------------------------\u001B[0m",
      "\u001B[0;31mKeyError\u001B[0m                                  Traceback (most recent call last)",
      "File \u001B[0;32m~/.config/JetBrains/DataSpell2021.3/projects/workspace/venv/lib/python3.8/site-packages/pandas/core/indexes/base.py:3621\u001B[0m, in \u001B[0;36mIndex.get_loc\u001B[0;34m(self, key, method, tolerance)\u001B[0m\n\u001B[1;32m   3620\u001B[0m \u001B[38;5;28;01mtry\u001B[39;00m:\n\u001B[0;32m-> 3621\u001B[0m     \u001B[38;5;28;01mreturn\u001B[39;00m \u001B[38;5;28;43mself\u001B[39;49m\u001B[38;5;241;43m.\u001B[39;49m\u001B[43m_engine\u001B[49m\u001B[38;5;241;43m.\u001B[39;49m\u001B[43mget_loc\u001B[49m\u001B[43m(\u001B[49m\u001B[43mcasted_key\u001B[49m\u001B[43m)\u001B[49m\n\u001B[1;32m   3622\u001B[0m \u001B[38;5;28;01mexcept\u001B[39;00m \u001B[38;5;167;01mKeyError\u001B[39;00m \u001B[38;5;28;01mas\u001B[39;00m err:\n",
      "File \u001B[0;32m~/.config/JetBrains/DataSpell2021.3/projects/workspace/venv/lib/python3.8/site-packages/pandas/_libs/index.pyx:136\u001B[0m, in \u001B[0;36mpandas._libs.index.IndexEngine.get_loc\u001B[0;34m()\u001B[0m\n",
      "File \u001B[0;32m~/.config/JetBrains/DataSpell2021.3/projects/workspace/venv/lib/python3.8/site-packages/pandas/_libs/index.pyx:163\u001B[0m, in \u001B[0;36mpandas._libs.index.IndexEngine.get_loc\u001B[0;34m()\u001B[0m\n",
      "File \u001B[0;32mpandas/_libs/hashtable_class_helper.pxi:5198\u001B[0m, in \u001B[0;36mpandas._libs.hashtable.PyObjectHashTable.get_item\u001B[0;34m()\u001B[0m\n",
      "File \u001B[0;32mpandas/_libs/hashtable_class_helper.pxi:5206\u001B[0m, in \u001B[0;36mpandas._libs.hashtable.PyObjectHashTable.get_item\u001B[0;34m()\u001B[0m\n",
      "\u001B[0;31mKeyError\u001B[0m: 'sum'",
      "\nThe above exception was the direct cause of the following exception:\n",
      "\u001B[0;31mKeyError\u001B[0m                                  Traceback (most recent call last)",
      "Input \u001B[0;32mIn [23]\u001B[0m, in \u001B[0;36m<module>\u001B[0;34m\u001B[0m\n\u001B[1;32m      1\u001B[0m \u001B[38;5;66;03m# calculate sum of every coulumns and find the least sum\u001B[39;00m\n\u001B[1;32m      2\u001B[0m columns_for_calc\u001B[38;5;241m.\u001B[39mloc[\u001B[38;5;124m'\u001B[39m\u001B[38;5;124msum\u001B[39m\u001B[38;5;124m'\u001B[39m] \u001B[38;5;241m=\u001B[39m pd\u001B[38;5;241m.\u001B[39mSeries(columns_for_calc\u001B[38;5;241m.\u001B[39msum())\n\u001B[0;32m----> 3\u001B[0m \u001B[38;5;28mprint\u001B[39m(\u001B[43mcolumns_for_calc\u001B[49m\u001B[43m[\u001B[49m\u001B[38;5;124;43m'\u001B[39;49m\u001B[38;5;124;43msum\u001B[39;49m\u001B[38;5;124;43m'\u001B[39;49m\u001B[43m]\u001B[49m)\n\u001B[1;32m      4\u001B[0m minvalue_series \u001B[38;5;241m=\u001B[39m columns_for_calc\u001B[38;5;241m.\u001B[39mmin(axis \u001B[38;5;241m=\u001B[39m \u001B[38;5;241m0\u001B[39m)\n\u001B[1;32m      5\u001B[0m minvalue_series\n",
      "File \u001B[0;32m~/.config/JetBrains/DataSpell2021.3/projects/workspace/venv/lib/python3.8/site-packages/pandas/core/frame.py:3506\u001B[0m, in \u001B[0;36mDataFrame.__getitem__\u001B[0;34m(self, key)\u001B[0m\n\u001B[1;32m   3504\u001B[0m \u001B[38;5;28;01mif\u001B[39;00m \u001B[38;5;28mself\u001B[39m\u001B[38;5;241m.\u001B[39mcolumns\u001B[38;5;241m.\u001B[39mnlevels \u001B[38;5;241m>\u001B[39m \u001B[38;5;241m1\u001B[39m:\n\u001B[1;32m   3505\u001B[0m     \u001B[38;5;28;01mreturn\u001B[39;00m \u001B[38;5;28mself\u001B[39m\u001B[38;5;241m.\u001B[39m_getitem_multilevel(key)\n\u001B[0;32m-> 3506\u001B[0m indexer \u001B[38;5;241m=\u001B[39m \u001B[38;5;28;43mself\u001B[39;49m\u001B[38;5;241;43m.\u001B[39;49m\u001B[43mcolumns\u001B[49m\u001B[38;5;241;43m.\u001B[39;49m\u001B[43mget_loc\u001B[49m\u001B[43m(\u001B[49m\u001B[43mkey\u001B[49m\u001B[43m)\u001B[49m\n\u001B[1;32m   3507\u001B[0m \u001B[38;5;28;01mif\u001B[39;00m is_integer(indexer):\n\u001B[1;32m   3508\u001B[0m     indexer \u001B[38;5;241m=\u001B[39m [indexer]\n",
      "File \u001B[0;32m~/.config/JetBrains/DataSpell2021.3/projects/workspace/venv/lib/python3.8/site-packages/pandas/core/indexes/base.py:3623\u001B[0m, in \u001B[0;36mIndex.get_loc\u001B[0;34m(self, key, method, tolerance)\u001B[0m\n\u001B[1;32m   3621\u001B[0m     \u001B[38;5;28;01mreturn\u001B[39;00m \u001B[38;5;28mself\u001B[39m\u001B[38;5;241m.\u001B[39m_engine\u001B[38;5;241m.\u001B[39mget_loc(casted_key)\n\u001B[1;32m   3622\u001B[0m \u001B[38;5;28;01mexcept\u001B[39;00m \u001B[38;5;167;01mKeyError\u001B[39;00m \u001B[38;5;28;01mas\u001B[39;00m err:\n\u001B[0;32m-> 3623\u001B[0m     \u001B[38;5;28;01mraise\u001B[39;00m \u001B[38;5;167;01mKeyError\u001B[39;00m(key) \u001B[38;5;28;01mfrom\u001B[39;00m \u001B[38;5;21;01merr\u001B[39;00m\n\u001B[1;32m   3624\u001B[0m \u001B[38;5;28;01mexcept\u001B[39;00m \u001B[38;5;167;01mTypeError\u001B[39;00m:\n\u001B[1;32m   3625\u001B[0m     \u001B[38;5;66;03m# If we have a listlike key, _check_indexing_error will raise\u001B[39;00m\n\u001B[1;32m   3626\u001B[0m     \u001B[38;5;66;03m#  InvalidIndexError. Otherwise we fall through and re-raise\u001B[39;00m\n\u001B[1;32m   3627\u001B[0m     \u001B[38;5;66;03m#  the TypeError.\u001B[39;00m\n\u001B[1;32m   3628\u001B[0m     \u001B[38;5;28mself\u001B[39m\u001B[38;5;241m.\u001B[39m_check_indexing_error(key)\n",
      "\u001B[0;31mKeyError\u001B[0m: 'sum'"
     ]
    }
   ],
   "source": [
    "# calculate sum of every coulumns and find the least sum\n",
    "columns_for_calc.loc['sum'] = pd.Series(columns_for_calc.sum())\n",
    "print(columns_for_calc['sum'])\n",
    "minvalue_series = columns_for_calc.min(axis = 0)\n",
    "minvalue_series\n",
    "#sum_of_data = columns_for_calc.sum(axis=1)"
   ],
   "metadata": {
    "collapsed": false
   }
  },
  {
   "cell_type": "code",
   "execution_count": null,
   "outputs": [],
   "source": [],
   "metadata": {
    "collapsed": false
   }
  }
 ],
 "metadata": {
  "kernelspec": {
   "display_name": "Python 3",
   "language": "python",
   "name": "python3"
  },
  "language_info": {
   "codemirror_mode": {
    "name": "ipython",
    "version": 2
   },
   "file_extension": ".py",
   "mimetype": "text/x-python",
   "name": "python",
   "nbconvert_exporter": "python",
   "pygments_lexer": "ipython2",
   "version": "2.7.6"
  }
 },
 "nbformat": 4,
 "nbformat_minor": 0
}
