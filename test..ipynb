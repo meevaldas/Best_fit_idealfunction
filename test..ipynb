{
 "cells": [
  {
   "cell_type": "markdown",
   "metadata": {},
   "source": []
  },
  {
   "cell_type": "code",
   "execution_count": 1,
   "metadata": {
    "scrolled": true
   },
   "outputs": [],
   "source": [
    "import math\n",
    "import matplotlib\n",
    "from pandas import read_csv, merge, DataFrame\n",
    "\n",
    "# Preparing Dataframes\n",
    "training_data = read_csv('csvfiles/train.csv')\n",
    "test_data = read_csv('csvfiles/test.csv')\n",
    "ideal_func_data = read_csv('csvfiles/ideal.csv')\n",
    "\n",
    "training_columns = training_data.columns.difference([\"x\"])"
   ]
  },
  {
   "cell_type": "code",
   "execution_count": 10,
   "outputs": [],
   "source": [
    "def get_best_fit_functions(col_name):\n",
    "    training_one = training_data[[\"x\", col_name]]\n",
    "\n",
    "    # rename training y1 to y.\n",
    "    training_one = training_one.rename(columns={col_name: 'y'})\n",
    "    training_one = merge(training_one, ideal_func_data, on='x')\n",
    "\n",
    "    # Get deviation delta:\n",
    "    training_one_deviations = training_one[[\"x\"]].copy()\n",
    "    ideal_functions = training_one.columns.difference([\"x\", \"y\"])\n",
    "    row_count = training_one_deviations.count()\n",
    "\n",
    "    for ideal_function in ideal_functions:\n",
    "    # Squares the difference and inserts a new column\n",
    "        training_one_deviations.insert(1, ideal_function, (training_one[\"y\"] - training_one[ideal_function]) ** 2)\n",
    "\n",
    "    return training_one_deviations[training_one_deviations.columns.difference([\"x\"])].sum().apply(\n",
    "        lambda row: math.sqrt(row / row_count)).sort_values()\n"
   ],
   "metadata": {
    "collapsed": false
   }
  },
  {
   "cell_type": "code",
   "execution_count": 11,
   "outputs": [
    {
     "name": "stdout",
     "output_type": "stream",
     "text": [
      "       x            y   y11        y41       y30       y44\n",
      "0   -3.5    -6.947535  -3.5  -6.824608   -62.375 -0.009662\n",
      "1  -12.5   -11.685250 -12.5 -24.966839 -2260.625 -0.008889\n",
      "2  -16.6   -16.706474 -16.6 -32.810825 -5120.416 -0.008576\n",
      "3   10.1     1.008710  10.1  19.887465   831.281 -0.011123\n",
      "4    5.4     5.342015   5.4  10.413618   104.144 -0.010571\n",
      "..   ...          ...   ...        ...       ...       ...\n",
      "95   3.6    24.481665   3.6   6.978740    25.736 -0.010373\n",
      "96  13.8    29.217611  13.8  28.071848  2252.192 -0.011601\n",
      "97  -0.9    -1.978020  -0.9  -2.191664     2.651 -0.009911\n",
      "98  -1.3     0.404557  -1.3  -3.081779    -0.577 -0.009872\n",
      "99 -16.2 -4770.335400 -16.2 -32.163788 -4771.408 -0.008606\n",
      "\n",
      "[100 rows x 6 columns]\n"
     ]
    }
   ],
   "source": [
    "out = []\n",
    "for col in training_columns:\n",
    "    raw_output = get_best_fit_functions(col).axes[0][0]\n",
    "    out.append(raw_output)\n",
    "\n",
    "sample = DataFrame(ideal_func_data[out])\n",
    "sample['x'] = ideal_func_data['x']\n",
    "test_one = merge(test_data, sample, on='x')\n",
    "print(test_one)"
   ],
   "metadata": {
    "collapsed": false
   }
  },
  {
   "cell_type": "code",
   "execution_count": null,
   "outputs": [],
   "source": [],
   "metadata": {
    "collapsed": false
   }
  }
 ],
 "metadata": {
  "kernelspec": {
   "display_name": "Python 3 (ipykernel)",
   "language": "python",
   "name": "python3"
  },
  "language_info": {
   "codemirror_mode": {
    "name": "ipython",
    "version": 3
   },
   "file_extension": ".py",
   "mimetype": "text/x-python",
   "name": "python",
   "nbconvert_exporter": "python",
   "pygments_lexer": "ipython3",
   "version": "3.8.10"
  }
 },
 "nbformat": 4,
 "nbformat_minor": 1
}
